{
  "nbformat": 4,
  "nbformat_minor": 0,
  "metadata": {
    "colab": {
      "provenance": [],
      "authorship_tag": "ABX9TyOFUZ8nqxTU7HiXwgiGml2F",
      "include_colab_link": true
    },
    "kernelspec": {
      "name": "python3",
      "display_name": "Python 3"
    },
    "language_info": {
      "name": "python"
    }
  },
  "cells": [
    {
      "cell_type": "markdown",
      "metadata": {
        "id": "view-in-github",
        "colab_type": "text"
      },
      "source": [
        "<a href=\"https://colab.research.google.com/github/Aiviloxii/Playground2/blob/main/W3_C3.ipynb\" target=\"_parent\"><img src=\"https://colab.research.google.com/assets/colab-badge.svg\" alt=\"Open In Colab\"/></a>"
      ]
    },
    {
      "cell_type": "markdown",
      "source": [
        "#Learning functions: user defined and built-in"
      ],
      "metadata": {
        "id": "FSOMeVzmadM5"
      }
    },
    {
      "cell_type": "code",
      "execution_count": 1,
      "metadata": {
        "colab": {
          "base_uri": "https://localhost:8080/"
        },
        "id": "yVeJShSGaNlc",
        "outputId": "92cd3f38-2c8b-4b82-b098-09520b25a8cb"
      },
      "outputs": [
        {
          "output_type": "stream",
          "name": "stdout",
          "text": [
            "Please enter your name: Juss\n",
            "Hello Juss\n"
          ]
        }
      ],
      "source": [
        "name = input(\"Please enter your name: \")\n",
        "print(\"Hello\", name)"
      ]
    },
    {
      "cell_type": "code",
      "source": [
        "age = int(input(\"Enter your age: \"))\n",
        "if age >= 18:\n",
        "  print(\"You are eligible to vote\")\n",
        "else:\n",
        "  print(\"Not yet eligible!\")"
      ],
      "metadata": {
        "colab": {
          "base_uri": "https://localhost:8080/"
        },
        "id": "eOra9Qx1bWTW",
        "outputId": "4947b555-5305-4ccd-96d4-4f31d9073d55"
      },
      "execution_count": 4,
      "outputs": [
        {
          "output_type": "stream",
          "name": "stdout",
          "text": [
            "Enter your age: 32\n",
            "You are eligible to vote\n"
          ]
        }
      ]
    },
    {
      "cell_type": "code",
      "source": [
        "def greet():\n",
        "  a = print(\" Ohayou!!\")\n",
        "  return a"
      ],
      "metadata": {
        "id": "CtUhTOHvbzrP"
      },
      "execution_count": 5,
      "outputs": []
    },
    {
      "cell_type": "code",
      "source": [
        "greet()"
      ],
      "metadata": {
        "colab": {
          "base_uri": "https://localhost:8080/"
        },
        "id": "_kZ2fWfMby3O",
        "outputId": "8e6f932a-14e5-4e7a-d722-1b60ee25f3d6"
      },
      "execution_count": 6,
      "outputs": [
        {
          "output_type": "stream",
          "name": "stdout",
          "text": [
            " Ohayou!!\n"
          ]
        }
      ]
    },
    {
      "cell_type": "code",
      "source": [
        "def greet_user(name):\n",
        "  return f\"Ohayou!!! {name}\""
      ],
      "metadata": {
        "id": "sjo2CuNxdD5v"
      },
      "execution_count": 10,
      "outputs": []
    },
    {
      "cell_type": "code",
      "source": [
        "greet_user(\"Zeke\")"
      ],
      "metadata": {
        "colab": {
          "base_uri": "https://localhost:8080/",
          "height": 36
        },
        "id": "tqqMu4qgdd4p",
        "outputId": "165267b5-bb92-4057-d261-df8e6c9b84e7"
      },
      "execution_count": 11,
      "outputs": [
        {
          "output_type": "execute_result",
          "data": {
            "text/plain": [
              "'Ohayou!!! Zeke'"
            ],
            "application/vnd.google.colaboratory.intrinsic+json": {
              "type": "string"
            }
          },
          "metadata": {},
          "execution_count": 11
        }
      ]
    },
    {
      "cell_type": "markdown",
      "source": [
        "positional arguments"
      ],
      "metadata": {
        "id": "dhyzbuRFeBkQ"
      }
    },
    {
      "cell_type": "code",
      "source": [
        "def student(name, course):\n",
        "  return f\" My name is {name} and I'm offering {course} \""
      ],
      "metadata": {
        "id": "YK3Jnx_4dbHV"
      },
      "execution_count": 12,
      "outputs": []
    },
    {
      "cell_type": "code",
      "source": [
        "student(\"Levi\", \"Slaying Titans 101\")"
      ],
      "metadata": {
        "colab": {
          "base_uri": "https://localhost:8080/",
          "height": 36
        },
        "id": "SyuCjHp8etJ9",
        "outputId": "28c6b6a3-e4f5-4dc9-b63d-dc384fc35503"
      },
      "execution_count": 13,
      "outputs": [
        {
          "output_type": "execute_result",
          "data": {
            "text/plain": [
              "\" My name is Levi and I'm offering Slaying Titans 101 \""
            ],
            "application/vnd.google.colaboratory.intrinsic+json": {
              "type": "string"
            }
          },
          "metadata": {},
          "execution_count": 13
        }
      ]
    },
    {
      "cell_type": "markdown",
      "source": [
        "keyword argument"
      ],
      "metadata": {
        "id": "AhK-kBI4fAG6"
      }
    },
    {
      "cell_type": "code",
      "source": [
        "student(course=\"Handling the zip\", name=\"Eren\")"
      ],
      "metadata": {
        "colab": {
          "base_uri": "https://localhost:8080/",
          "height": 36
        },
        "id": "BILpLwpLfHdM",
        "outputId": "6708ff1d-7318-4a35-ebe1-024ebbe5dc40"
      },
      "execution_count": 14,
      "outputs": [
        {
          "output_type": "execute_result",
          "data": {
            "text/plain": [
              "\" My name is Eren and I'm offering Handling the zip \""
            ],
            "application/vnd.google.colaboratory.intrinsic+json": {
              "type": "string"
            }
          },
          "metadata": {},
          "execution_count": 14
        }
      ]
    },
    {
      "cell_type": "markdown",
      "source": [
        "default values"
      ],
      "metadata": {
        "id": "3nlyxAAFfmgq"
      }
    },
    {
      "cell_type": "code",
      "source": [
        "def student(name,course=\"Slaying Titans\", age =14):\n",
        "  return f\"My name is {name}. \\n I am taking {course}.  \\nI am {age} years old. \\nTitans destroyed our home\""
      ],
      "metadata": {
        "id": "NWyVaQUhfj3A"
      },
      "execution_count": 28,
      "outputs": []
    },
    {
      "cell_type": "code",
      "source": [
        "student(\"Misaki\")"
      ],
      "metadata": {
        "colab": {
          "base_uri": "https://localhost:8080/",
          "height": 53
        },
        "id": "954s8DRvf9v2",
        "outputId": "6efde9a4-0b93-47ed-f29a-7f13f24b75cd"
      },
      "execution_count": 31,
      "outputs": [
        {
          "output_type": "execute_result",
          "data": {
            "text/plain": [
              "'My name is Misaki. \\n I am taking Slaying Titans.  \\nI am 14 years old. \\nTitans destroyed our home'"
            ],
            "application/vnd.google.colaboratory.intrinsic+json": {
              "type": "string"
            }
          },
          "metadata": {},
          "execution_count": 31
        }
      ]
    },
    {
      "cell_type": "markdown",
      "source": [
        "passing a list"
      ],
      "metadata": {
        "id": "9f7MPF4Gjr_w"
      }
    },
    {
      "cell_type": "code",
      "source": [
        "def list_sum(num_list):\n",
        "  result = sum(num_list)\n",
        "  return result"
      ],
      "metadata": {
        "id": "E9VPYXAhjnGs"
      },
      "execution_count": 32,
      "outputs": []
    },
    {
      "cell_type": "code",
      "source": [
        "list_sum([3,4,6,7,8,0,8,3,2,1])"
      ],
      "metadata": {
        "colab": {
          "base_uri": "https://localhost:8080/"
        },
        "id": "d-52o27EkK_2",
        "outputId": "7250836f-62ec-47cd-fc36-c2b0f885c3ab"
      },
      "execution_count": 33,
      "outputs": [
        {
          "output_type": "execute_result",
          "data": {
            "text/plain": [
              "42"
            ]
          },
          "metadata": {},
          "execution_count": 33
        }
      ]
    },
    {
      "cell_type": "markdown",
      "source": [
        "passing an arbitrary number of arguments"
      ],
      "metadata": {
        "id": "qFTV8BqHkZpV"
      }
    },
    {
      "cell_type": "code",
      "source": [
        "def sum_all(*numbers):\n",
        "  result = 0\n",
        "  for i in numbers:\n",
        "    result += i\n",
        "  return result"
      ],
      "metadata": {
        "id": "LscHDr2Fkf9l"
      },
      "execution_count": 34,
      "outputs": []
    },
    {
      "cell_type": "code",
      "source": [
        "sum_all(1,3,5,7,9,0,2,4,6,8,110)"
      ],
      "metadata": {
        "colab": {
          "base_uri": "https://localhost:8080/"
        },
        "id": "kkIXpAfolIpM",
        "outputId": "f5c83ad9-de92-495a-812d-4ad1ed336084"
      },
      "execution_count": 36,
      "outputs": [
        {
          "output_type": "execute_result",
          "data": {
            "text/plain": [
              "155"
            ]
          },
          "metadata": {},
          "execution_count": 36
        }
      ]
    },
    {
      "cell_type": "markdown",
      "source": [
        "passing an arbitrary number of arguments"
      ],
      "metadata": {
        "id": "_rpVXf2plT1j"
      }
    },
    {
      "cell_type": "code",
      "source": [
        "def student_profile(**student_info):\n",
        "  return student_info"
      ],
      "metadata": {
        "id": "D5nYQ6DXlb8E"
      },
      "execution_count": 40,
      "outputs": []
    },
    {
      "cell_type": "code",
      "source": [
        "student_profile(name=\"Alice Braun\", clxss=\"TechCrush\", age=17, gender=\"female\")"
      ],
      "metadata": {
        "colab": {
          "base_uri": "https://localhost:8080/"
        },
        "id": "F5FJT4wOmDuf",
        "outputId": "34dd7eff-aecc-4490-c40c-432f37530f93"
      },
      "execution_count": 41,
      "outputs": [
        {
          "output_type": "execute_result",
          "data": {
            "text/plain": [
              "{'name': 'Alice Braun', 'clxss': 'TechCrush', 'age': 17, 'gender': 'female'}"
            ]
          },
          "metadata": {},
          "execution_count": 41
        }
      ]
    }
  ]
}
