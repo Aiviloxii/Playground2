{
  "nbformat": 4,
  "nbformat_minor": 0,
  "metadata": {
    "colab": {
      "provenance": [],
      "authorship_tag": "ABX9TyNiSjU4grAH2G3obUCC4MlL"
    },
    "kernelspec": {
      "name": "python3",
      "display_name": "Python 3"
    },
    "language_info": {
      "name": "python"
    }
  },
  "cells": [
    {
      "cell_type": "code",
      "execution_count": null,
      "metadata": {
        "colab": {
          "base_uri": "https://localhost:8080/"
        },
        "id": "PRWewYeO38Ez",
        "outputId": "359695bc-28ab-4642-cb87-4d4a994be2dc"
      },
      "outputs": [
        {
          "output_type": "stream",
          "name": "stdout",
          "text": [
            "8\n"
          ]
        }
      ],
      "source": [
        "txt = \"Hello Again\"\n",
        "print(txt.find('a'))"
      ]
    },
    {
      "cell_type": "code",
      "source": [
        "print(txt[6:])"
      ],
      "metadata": {
        "colab": {
          "base_uri": "https://localhost:8080/"
        },
        "id": "UckLzimj47Qb",
        "outputId": "c9858723-f105-4ef8-cc7c-81b19794ce8b"
      },
      "execution_count": null,
      "outputs": [
        {
          "output_type": "stream",
          "name": "stdout",
          "text": [
            "Again\n"
          ]
        }
      ]
    },
    {
      "cell_type": "code",
      "source": [
        "txt.replace(\"Again\", \"You there\")"
      ],
      "metadata": {
        "colab": {
          "base_uri": "https://localhost:8080/",
          "height": 35
        },
        "id": "_vU2fEbB5wEo",
        "outputId": "1beb9d05-5eba-4083-ba81-2c8faf6930a5"
      },
      "execution_count": null,
      "outputs": [
        {
          "output_type": "execute_result",
          "data": {
            "text/plain": [
              "'Hello You there'"
            ],
            "application/vnd.google.colaboratory.intrinsic+json": {
              "type": "string"
            }
          },
          "metadata": {},
          "execution_count": 12
        }
      ]
    },
    {
      "cell_type": "code",
      "source": [
        "txt[:8:2]"
      ],
      "metadata": {
        "colab": {
          "base_uri": "https://localhost:8080/",
          "height": 35
        },
        "id": "StORQQgT6-Tj",
        "outputId": "117dc0ef-9b9d-4c60-8550-8c0e86598d5c"
      },
      "execution_count": 25,
      "outputs": [
        {
          "output_type": "execute_result",
          "data": {
            "text/plain": [
              "'HloA'"
            ],
            "application/vnd.google.colaboratory.intrinsic+json": {
              "type": "string"
            }
          },
          "metadata": {},
          "execution_count": 25
        }
      ]
    },
    {
      "cell_type": "markdown",
      "source": [
        "##Learning Lists!!"
      ],
      "metadata": {
        "id": "xy4RUo8A8CHC"
      }
    },
    {
      "cell_type": "code",
      "source": [
        "my_list = []\n",
        "type(my_list)"
      ],
      "metadata": {
        "colab": {
          "base_uri": "https://localhost:8080/"
        },
        "id": "l-lD49_-8JmH",
        "outputId": "576949b3-ba37-4c6d-f2c7-d24b027ef2f9"
      },
      "execution_count": 26,
      "outputs": [
        {
          "output_type": "execute_result",
          "data": {
            "text/plain": [
              "list"
            ]
          },
          "metadata": {},
          "execution_count": 26
        }
      ]
    },
    {
      "cell_type": "code",
      "source": [
        "my_list.append(2)\n",
        "print(my_list)"
      ],
      "metadata": {
        "colab": {
          "base_uri": "https://localhost:8080/"
        },
        "id": "JMUO6lvU8uq7",
        "outputId": "f7840d29-c120-4fd2-8b3b-f29320f0ccc3"
      },
      "execution_count": 30,
      "outputs": [
        {
          "output_type": "stream",
          "name": "stdout",
          "text": [
            "[2, 2]\n"
          ]
        }
      ]
    },
    {
      "cell_type": "code",
      "source": [
        "len(my_list)"
      ],
      "metadata": {
        "colab": {
          "base_uri": "https://localhost:8080/"
        },
        "id": "x8Ms0k47-a-z",
        "outputId": "256beba9-3787-42b3-eff3-a6151d979a59"
      },
      "execution_count": 33,
      "outputs": [
        {
          "output_type": "execute_result",
          "data": {
            "text/plain": [
              "2"
            ]
          },
          "metadata": {},
          "execution_count": 33
        }
      ]
    },
    {
      "cell_type": "code",
      "source": [
        "my_list[1]"
      ],
      "metadata": {
        "colab": {
          "base_uri": "https://localhost:8080/"
        },
        "id": "dT9522fl-hzL",
        "outputId": "e3fae663-3bd4-415a-ce11-752a6145f714"
      },
      "execution_count": 35,
      "outputs": [
        {
          "output_type": "execute_result",
          "data": {
            "text/plain": [
              "2"
            ]
          },
          "metadata": {},
          "execution_count": 35
        }
      ]
    },
    {
      "cell_type": "code",
      "source": [
        "my_list[1] = \"Joe\"\n",
        "print(my_list)"
      ],
      "metadata": {
        "colab": {
          "base_uri": "https://localhost:8080/"
        },
        "id": "Ng_qD3oD-tZN",
        "outputId": "31d332fe-9578-4822-d8ee-bb0fffe75a3a"
      },
      "execution_count": 37,
      "outputs": [
        {
          "output_type": "stream",
          "name": "stdout",
          "text": [
            "[2, 'Joe']\n"
          ]
        }
      ]
    },
    {
      "cell_type": "code",
      "source": [
        "print(f\" I just changed the second element in my list to {my_list[1]}!\")"
      ],
      "metadata": {
        "colab": {
          "base_uri": "https://localhost:8080/"
        },
        "id": "jLlgDmY__KEv",
        "outputId": "95e7aaa9-caa8-4f2b-d769-786a8255cad5"
      },
      "execution_count": 41,
      "outputs": [
        {
          "output_type": "stream",
          "name": "stdout",
          "text": [
            " I just changed the second element in my list to Joe!\n"
          ]
        }
      ]
    },
    {
      "cell_type": "code",
      "source": [
        "my_list.append(34.2)"
      ],
      "metadata": {
        "id": "YtYshpkcALba"
      },
      "execution_count": 42,
      "outputs": []
    },
    {
      "cell_type": "code",
      "source": [
        "my_list.append(\"Jumaimah\")"
      ],
      "metadata": {
        "id": "gWFk4ZALAsaN"
      },
      "execution_count": 43,
      "outputs": []
    },
    {
      "cell_type": "code",
      "source": [
        "my_list.insert(0, 22)\n",
        "print(my_list)"
      ],
      "metadata": {
        "colab": {
          "base_uri": "https://localhost:8080/"
        },
        "id": "Y_kWWIrkBBjP",
        "outputId": "045d1a2b-15d6-4a3c-ad10-16b15c3b816a"
      },
      "execution_count": 46,
      "outputs": [
        {
          "output_type": "stream",
          "name": "stdout",
          "text": [
            "[22, 22, 22, 2, 'Joe', 34.2, 'Jumaimah']\n"
          ]
        }
      ]
    },
    {
      "cell_type": "code",
      "source": [
        "my_list.remove(22)\n",
        "print(my_list)"
      ],
      "metadata": {
        "colab": {
          "base_uri": "https://localhost:8080/"
        },
        "id": "OUSZloYaBbM9",
        "outputId": "a5f8fe8d-8f09-4aa3-ccca-c6b447764e30"
      },
      "execution_count": 48,
      "outputs": [
        {
          "output_type": "stream",
          "name": "stdout",
          "text": [
            "[22, 2, 'Joe', 34.2, 'Jumaimah']\n"
          ]
        }
      ]
    },
    {
      "cell_type": "code",
      "source": [
        "my_list.insert(2, \"Xavier\")\n",
        "print(my_list)"
      ],
      "metadata": {
        "colab": {
          "base_uri": "https://localhost:8080/"
        },
        "id": "E98Ku-RrBkuE",
        "outputId": "386e3e4c-8d92-4fd6-eb6c-200f6d333126"
      },
      "execution_count": 50,
      "outputs": [
        {
          "output_type": "stream",
          "name": "stdout",
          "text": [
            "[22, 2, 'Xavier', 'Xavier', 'Joe', 34.2, 'Jumaimah']\n"
          ]
        }
      ]
    },
    {
      "cell_type": "code",
      "source": [
        "len(my_list)"
      ],
      "metadata": {
        "colab": {
          "base_uri": "https://localhost:8080/"
        },
        "id": "uOpdoq8HCCuW",
        "outputId": "572e0e41-c278-436b-c8f4-7956d5c72fc6"
      },
      "execution_count": 51,
      "outputs": [
        {
          "output_type": "execute_result",
          "data": {
            "text/plain": [
              "7"
            ]
          },
          "metadata": {},
          "execution_count": 51
        }
      ]
    },
    {
      "cell_type": "code",
      "source": [
        "del my_list[3]\n",
        "print(my_list)"
      ],
      "metadata": {
        "colab": {
          "base_uri": "https://localhost:8080/"
        },
        "id": "bBjVaj6JDELs",
        "outputId": "31123aa8-3ef8-4824-f053-eb4927eec9a6"
      },
      "execution_count": 53,
      "outputs": [
        {
          "output_type": "stream",
          "name": "stdout",
          "text": [
            "[22, 2, 'Xavier', 34.2, 'Jumaimah']\n"
          ]
        }
      ]
    },
    {
      "cell_type": "code",
      "source": [
        "my_list.insert(4,99.9)\n",
        "print(my_list)"
      ],
      "metadata": {
        "colab": {
          "base_uri": "https://localhost:8080/"
        },
        "id": "fXoRAb00Dhfd",
        "outputId": "294a99e2-7c9d-41e6-a644-5385a950ec89"
      },
      "execution_count": 56,
      "outputs": [
        {
          "output_type": "stream",
          "name": "stdout",
          "text": [
            "[22, 2, 'Xavier', 34.2, 99.9, 99.9, 'Jumaimah']\n"
          ]
        }
      ]
    },
    {
      "cell_type": "code",
      "source": [
        "my_list.remove(99.9)\n",
        "print(my_list)"
      ],
      "metadata": {
        "colab": {
          "base_uri": "https://localhost:8080/"
        },
        "id": "EKzmZVIBEBcx",
        "outputId": "891e41a5-0d0b-44ba-d7ed-8d7352aea6b6"
      },
      "execution_count": 58,
      "outputs": [
        {
          "output_type": "stream",
          "name": "stdout",
          "text": [
            "[22, 2, 'Xavier', 34.2, 'Jumaimah']\n"
          ]
        }
      ]
    },
    {
      "cell_type": "code",
      "source": [
        "my_list.insert(0, \"Agh!\")"
      ],
      "metadata": {
        "id": "q2MY9-vwEdGq"
      },
      "execution_count": 59,
      "outputs": []
    },
    {
      "cell_type": "code",
      "source": [
        "print(my_list)"
      ],
      "metadata": {
        "colab": {
          "base_uri": "https://localhost:8080/"
        },
        "id": "N2GyAyNgEoZp",
        "outputId": "86eec2a5-79cb-4bbc-842b-851889013296"
      },
      "execution_count": 68,
      "outputs": [
        {
          "output_type": "stream",
          "name": "stdout",
          "text": [
            "['Agh!', 22, 2, 'Xavier', 34.2, 'Jumaimah']\n"
          ]
        }
      ]
    },
    {
      "cell_type": "code",
      "source": [
        "ages = [12, 33,8,18,14,16,25,50,125]"
      ],
      "metadata": {
        "id": "SwKOlHRJFBGK"
      },
      "execution_count": 72,
      "outputs": []
    },
    {
      "cell_type": "code",
      "source": [
        "print(ages)"
      ],
      "metadata": {
        "colab": {
          "base_uri": "https://localhost:8080/"
        },
        "id": "-ZPQEqLIF78-",
        "outputId": "fd980cd9-757f-46ca-87e9-823867bc01b4"
      },
      "execution_count": 74,
      "outputs": [
        {
          "output_type": "stream",
          "name": "stdout",
          "text": [
            "[8, 12, 14, 16, 18, 25, 33, 50, 125]\n"
          ]
        }
      ]
    },
    {
      "cell_type": "code",
      "source": [
        "ages.reverse()"
      ],
      "metadata": {
        "id": "zERdYBvQGOEx"
      },
      "execution_count": 77,
      "outputs": []
    },
    {
      "cell_type": "code",
      "source": [
        "print(ages)"
      ],
      "metadata": {
        "colab": {
          "base_uri": "https://localhost:8080/"
        },
        "id": "dX1Xf-sQG2ff",
        "outputId": "5291d3ff-a659-4548-e0ff-95f21cb87539"
      },
      "execution_count": 78,
      "outputs": [
        {
          "output_type": "stream",
          "name": "stdout",
          "text": [
            "[125, 50, 33, 25, 18, 16, 14, 12, 8]\n"
          ]
        }
      ]
    },
    {
      "cell_type": "code",
      "source": [
        "ages_copy = ages.copy()"
      ],
      "metadata": {
        "id": "Me9KMH4VHvT3"
      },
      "execution_count": 79,
      "outputs": []
    },
    {
      "cell_type": "code",
      "source": [
        "print(ages_copy)"
      ],
      "metadata": {
        "colab": {
          "base_uri": "https://localhost:8080/"
        },
        "id": "-aJqeZojH4_y",
        "outputId": "77356e7c-f1c6-41e2-c295-d750ca04afff"
      },
      "execution_count": 80,
      "outputs": [
        {
          "output_type": "stream",
          "name": "stdout",
          "text": [
            "[125, 50, 33, 25, 18, 16, 14, 12, 8]\n"
          ]
        }
      ]
    },
    {
      "cell_type": "code",
      "source": [
        "ages_copy.sort(reverse=True)"
      ],
      "metadata": {
        "id": "PxfCrTHWIAdG"
      },
      "execution_count": 85,
      "outputs": []
    },
    {
      "cell_type": "code",
      "source": [
        "ages_copy.reverse()"
      ],
      "metadata": {
        "id": "TrXU1BfAIZlP"
      },
      "execution_count": 86,
      "outputs": []
    },
    {
      "cell_type": "code",
      "source": [
        "print(ages_copy)"
      ],
      "metadata": {
        "colab": {
          "base_uri": "https://localhost:8080/"
        },
        "id": "TcGF4TDTIKYN",
        "outputId": "e41be1dd-0406-4a25-a712-a087e842ad3b"
      },
      "execution_count": 87,
      "outputs": [
        {
          "output_type": "stream",
          "name": "stdout",
          "text": [
            "[8, 12, 14, 16, 18, 25, 33, 50, 125]\n"
          ]
        }
      ]
    }
  ]
}