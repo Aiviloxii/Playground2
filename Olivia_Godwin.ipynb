{
  "nbformat": 4,
  "nbformat_minor": 0,
  "metadata": {
    "colab": {
      "provenance": [],
      "authorship_tag": "ABX9TyOOHCBzna/nDid01bstdbvO",
      "include_colab_link": true
    },
    "kernelspec": {
      "name": "python3",
      "display_name": "Python 3"
    },
    "language_info": {
      "name": "python"
    }
  },
  "cells": [
    {
      "cell_type": "markdown",
      "metadata": {
        "id": "view-in-github",
        "colab_type": "text"
      },
      "source": [
        "<a href=\"https://colab.research.google.com/github/Aiviloxii/Playground2/blob/main/Olivia_Godwin.ipynb\" target=\"_parent\"><img src=\"https://colab.research.google.com/assets/colab-badge.svg\" alt=\"Open In Colab\"/></a>"
      ]
    },
    {
      "cell_type": "markdown",
      "source": [
        "##Student Grading System"
      ],
      "metadata": {
        "id": "yL3cNqTCVXgV"
      }
    },
    {
      "cell_type": "code",
      "execution_count": 72,
      "metadata": {
        "id": "9ORofJepVQcr"
      },
      "outputs": [],
      "source": [
        "def grader():\n",
        "#ask user to input a score\n",
        "   score = float(input(\"Enter your score(0-100) to be graded: \"))\n",
        "#check what grade the score is.\n",
        "   if score >= 90 and score <= 100:\n",
        "      print(\"Grade: A\")\n",
        "   elif score >= 80 and score <= 89.9:\n",
        "      print(\"Grade: B\")\n",
        "   elif score >= 70 and score <= 79.9:\n",
        "      print(\"Grade: C\")\n",
        "   elif score >= 60 and score <= 69.9:\n",
        "      print(\"Grade: D\")\n",
        "   elif score < 60:\n",
        "      print(\"Grade: F\")"
      ]
    },
    {
      "cell_type": "code",
      "source": [
        "grader()"
      ],
      "metadata": {
        "colab": {
          "base_uri": "https://localhost:8080/"
        },
        "id": "tOPI4iKUYcpQ",
        "outputId": "74205191-4f13-4e6f-fc93-d19abaf4afe6"
      },
      "execution_count": 74,
      "outputs": [
        {
          "output_type": "stream",
          "name": "stdout",
          "text": [
            "Enter your score(0-100) to be graded: 56.2\n",
            "Grade: F\n"
          ]
        }
      ]
    },
    {
      "cell_type": "markdown",
      "source": [
        "#Simple Number Game"
      ],
      "metadata": {
        "id": "pV_LCue4Zci0"
      }
    },
    {
      "cell_type": "code",
      "source": [
        "import random"
      ],
      "metadata": {
        "id": "y_RnKFbvZi-L"
      },
      "execution_count": 75,
      "outputs": []
    },
    {
      "cell_type": "code",
      "source": [
        "#generate a secret number between 1 and 10\n",
        "secret_num = random.randint(1, 10)"
      ],
      "metadata": {
        "id": "wL0FYtz_Z0xn"
      },
      "execution_count": 76,
      "outputs": []
    },
    {
      "cell_type": "code",
      "source": [
        "#create the number of chances\n",
        "chances = 3"
      ],
      "metadata": {
        "id": "caCu_wiWaZnh"
      },
      "execution_count": 77,
      "outputs": []
    },
    {
      "cell_type": "code",
      "source": [
        "print(\"Welcome to the Guesser!!!\")\n",
        "print(\"#\" * 45)\n",
        "print(\"I'm thinking of a number between 1 and 10\")\n",
        "print(\"*\" * 45)\n",
        "while chances > 0:\n",
        "#ask the user for their guess.\n",
        "   guess = int(input(\"Enter your guess please: \"))\n",
        "#check if the guess is correct.\n",
        "   if guess == secret_num:\n",
        "      print(\"Yay!! You guessed right.\")\n",
        "      break\n",
        "   elif guess > secret_num:\n",
        "      print(\"Oh oh, too high. Try again\")\n",
        "   elif guess < secret_num:\n",
        "      print(\"Oops! Try again, too low\")\n",
        "#reduce chances left\n",
        "   chances -= 1\n",
        "   print(f\"You have {chances} chances left.\")\n",
        "#when user runs out of chances\n",
        "if chances ==0 and guess != secret_num:\n",
        "   print(f\"Sorry, you've run out of chances. I thought of the number {secret_num}\")"
      ],
      "metadata": {
        "colab": {
          "base_uri": "https://localhost:8080/"
        },
        "id": "ye4bCrNuanv8",
        "outputId": "8f23bcf8-d56e-4ff0-c4db-5c6391cbc5ae"
      },
      "execution_count": 78,
      "outputs": [
        {
          "output_type": "stream",
          "name": "stdout",
          "text": [
            "Welcome to the Guesser!!!\n",
            "#############################################\n",
            "I'm thinking of a number between 1 and 10\n",
            "*********************************************\n",
            "Enter your guess please: 5\n",
            "Oh oh, too high. Try again\n",
            "You have 2 chances left.\n",
            "Enter your guess please: 3\n",
            "Oops! Try again, too low\n",
            "You have 1 chances left.\n",
            "Enter your guess please: 4\n",
            "Yay!! You guessed right.\n"
          ]
        }
      ]
    },
    {
      "cell_type": "markdown",
      "source": [
        "##Multiplication Table Generator"
      ],
      "metadata": {
        "id": "TMo-zRKrh9UI"
      }
    },
    {
      "cell_type": "code",
      "source": [
        "def generate_table():\n",
        "   print(\"This is a Multiplication Table Generator\")\n",
        "   print(\"*\" * 45)\n",
        "#ask user for a number\n",
        "   num = int(input(\"Enter a number: \"))\n",
        "   print(\"*\" * 45)\n",
        "#print multiplication table\n",
        "   print(f\"Multiplication Table of {num}\")\n",
        "   for i in range(1, 13):\n",
        "       print(f\"{num} x {i} = {num * i}\")"
      ],
      "metadata": {
        "id": "6ABRVXyGiGfD"
      },
      "execution_count": 83,
      "outputs": []
    },
    {
      "cell_type": "code",
      "source": [
        "generate_table()"
      ],
      "metadata": {
        "colab": {
          "base_uri": "https://localhost:8080/"
        },
        "id": "C3Tei3tTlqnC",
        "outputId": "4657436b-f111-41c3-bd61-bacb5825469c"
      },
      "execution_count": 84,
      "outputs": [
        {
          "output_type": "stream",
          "name": "stdout",
          "text": [
            "This is a Multiplication Table Generator\n",
            "*********************************************\n",
            "Enter a number: 6\n",
            "*********************************************\n",
            "Multiplication Table of 6\n",
            "6 x 1 = 6\n",
            "6 x 2 = 12\n",
            "6 x 3 = 18\n",
            "6 x 4 = 24\n",
            "6 x 5 = 30\n",
            "6 x 6 = 36\n",
            "6 x 7 = 42\n",
            "6 x 8 = 48\n",
            "6 x 9 = 54\n",
            "6 x 10 = 60\n",
            "6 x 11 = 66\n",
            "6 x 12 = 72\n"
          ]
        }
      ]
    }
  ]
}