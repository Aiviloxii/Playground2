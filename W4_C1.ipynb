{
  "nbformat": 4,
  "nbformat_minor": 0,
  "metadata": {
    "colab": {
      "provenance": [],
      "authorship_tag": "ABX9TyPjDKNfbD74oD02Afe1oDTQ",
      "include_colab_link": true
    },
    "kernelspec": {
      "name": "python3",
      "display_name": "Python 3"
    },
    "language_info": {
      "name": "python"
    }
  },
  "cells": [
    {
      "cell_type": "markdown",
      "metadata": {
        "id": "view-in-github",
        "colab_type": "text"
      },
      "source": [
        "<a href=\"https://colab.research.google.com/github/Aiviloxii/Playground2/blob/main/W4_C1.ipynb\" target=\"_parent\"><img src=\"https://colab.research.google.com/assets/colab-badge.svg\" alt=\"Open In Colab\"/></a>"
      ]
    },
    {
      "cell_type": "markdown",
      "source": [
        "##Anonymous Functions: functions defined without a name."
      ],
      "metadata": {
        "id": "Xc0BwxgEUg3t"
      }
    },
    {
      "cell_type": "code",
      "execution_count": null,
      "metadata": {
        "id": "nCcJsV_wUfcl"
      },
      "outputs": [],
      "source": [
        "add = lambda x,y: x + y"
      ]
    },
    {
      "cell_type": "code",
      "source": [
        "print(add(2,3))"
      ],
      "metadata": {
        "colab": {
          "base_uri": "https://localhost:8080/"
        },
        "id": "VbdfAfchU6Bp",
        "outputId": "a2b08cd5-07e7-40ed-d4e3-82467f1c3fc2"
      },
      "execution_count": null,
      "outputs": [
        {
          "output_type": "stream",
          "name": "stdout",
          "text": [
            "5\n"
          ]
        }
      ]
    },
    {
      "cell_type": "code",
      "source": [
        "pow = lambda a,b: a ** b"
      ],
      "metadata": {
        "id": "nlebOq1ZVD5W"
      },
      "execution_count": null,
      "outputs": []
    },
    {
      "cell_type": "code",
      "source": [
        "print(pow(2, 3))"
      ],
      "metadata": {
        "colab": {
          "base_uri": "https://localhost:8080/"
        },
        "id": "3-Kk_qe3VOWn",
        "outputId": "fa65ab15-709c-454e-e659-ba277ba8f818"
      },
      "execution_count": null,
      "outputs": [
        {
          "output_type": "stream",
          "name": "stdout",
          "text": [
            "8\n"
          ]
        }
      ]
    },
    {
      "cell_type": "code",
      "source": [
        "numbers = [1, 2, 3, 4, 5]"
      ],
      "metadata": {
        "id": "bIj1fuFmV0vs"
      },
      "execution_count": null,
      "outputs": []
    },
    {
      "cell_type": "code",
      "source": [
        "\n",
        "# using the lambda function to filter even numbers from the list above\n",
        "even = filter(lambda x: x % 2 == 0, numbers)"
      ],
      "metadata": {
        "id": "81LYpKWeWC2e"
      },
      "execution_count": null,
      "outputs": []
    },
    {
      "cell_type": "code",
      "source": [
        "list(even) #using print function will run but would not sho."
      ],
      "metadata": {
        "colab": {
          "base_uri": "https://localhost:8080/"
        },
        "id": "n1L6m5GbWeG2",
        "outputId": "485dc84a-3672-45fc-9522-94cfcfc57ba0"
      },
      "execution_count": null,
      "outputs": [
        {
          "output_type": "execute_result",
          "data": {
            "text/plain": [
              "[2, 4]"
            ]
          },
          "metadata": {},
          "execution_count": 10
        }
      ]
    },
    {
      "cell_type": "code",
      "source": [
        "#doing same for odd numbers\n",
        "odd = filter(lambda y: y % 2 == 1, numbers)"
      ],
      "metadata": {
        "id": "D1_7FF6wW4cN"
      },
      "execution_count": null,
      "outputs": []
    },
    {
      "cell_type": "code",
      "source": [
        "list(odd)"
      ],
      "metadata": {
        "colab": {
          "base_uri": "https://localhost:8080/"
        },
        "id": "yI3Wo3PdXJFq",
        "outputId": "df8c6999-621b-4790-d592-cb4eaadd0cdf"
      },
      "execution_count": null,
      "outputs": [
        {
          "output_type": "execute_result",
          "data": {
            "text/plain": [
              "[1, 3, 5]"
            ]
          },
          "metadata": {},
          "execution_count": 12
        }
      ]
    },
    {
      "cell_type": "code",
      "source": [
        "#squaring the list\n",
        "square = map(lambda z: z ** 2, numbers)"
      ],
      "metadata": {
        "id": "Hh9Hf-vwXMo3"
      },
      "execution_count": null,
      "outputs": []
    },
    {
      "cell_type": "code",
      "source": [
        "list(square)"
      ],
      "metadata": {
        "colab": {
          "base_uri": "https://localhost:8080/"
        },
        "id": "9TvXT_kBX6kf",
        "outputId": "b8abd39f-3598-4029-c336-e8e7bbe6c716"
      },
      "execution_count": null,
      "outputs": [
        {
          "output_type": "execute_result",
          "data": {
            "text/plain": [
              "[1, 4, 9, 16, 25]"
            ]
          },
          "metadata": {},
          "execution_count": 14
        }
      ]
    },
    {
      "cell_type": "markdown",
      "source": [
        "the map function is used to make simple changes to the list."
      ],
      "metadata": {
        "id": "Zi0VFe97X--P"
      }
    },
    {
      "cell_type": "markdown",
      "source": [
        "the filter function is used move/check through the list based on a condition."
      ],
      "metadata": {
        "id": "gP24erBrYMLz"
      }
    },
    {
      "cell_type": "markdown",
      "source": [
        "##Error Handling"
      ],
      "metadata": {
        "id": "Y0BK2FX_Yr5T"
      }
    },
    {
      "cell_type": "code",
      "source": [
        "10/0"
      ],
      "metadata": {
        "colab": {
          "base_uri": "https://localhost:8080/",
          "height": 245
        },
        "id": "B9IlVAR8YXAU",
        "outputId": "3f332325-fca8-402c-a1f0-135bf8a7e736"
      },
      "execution_count": null,
      "outputs": [
        {
          "output_type": "error",
          "ename": "ZeroDivisionError",
          "evalue": "division by zero",
          "traceback": [
            "\u001b[0;31m---------------------------------------------------------------------------\u001b[0m",
            "\u001b[0;31mZeroDivisionError\u001b[0m                         Traceback (most recent call last)",
            "\u001b[0;32m<ipython-input-15-e574edb36883>\u001b[0m in \u001b[0;36m<cell line: 0>\u001b[0;34m()\u001b[0m\n\u001b[0;32m----> 1\u001b[0;31m \u001b[0;36m10\u001b[0m\u001b[0;34m/\u001b[0m\u001b[0;36m0\u001b[0m\u001b[0;34m\u001b[0m\u001b[0;34m\u001b[0m\u001b[0m\n\u001b[0m",
            "\u001b[0;31mZeroDivisionError\u001b[0m: division by zero"
          ]
        }
      ]
    },
    {
      "cell_type": "code",
      "source": [
        "try:\n",
        "   result = 10/0\n",
        "except ZeroDivisionError:\n",
        "   print(\"You can't divide by zero!\")"
      ],
      "metadata": {
        "colab": {
          "base_uri": "https://localhost:8080/"
        },
        "id": "RDfV8NjBajAc",
        "outputId": "57ce4170-a130-4d8e-f4d9-f17383d7a0ec"
      },
      "execution_count": null,
      "outputs": [
        {
          "output_type": "stream",
          "name": "stdout",
          "text": [
            "You can't divide by zero!\n"
          ]
        }
      ]
    },
    {
      "cell_type": "code",
      "source": [
        "try:\n",
        "   first_number = float(input(\"Enter first number: \"))\n",
        "   second_number = float(input(\"Enter second number: \"))\n",
        "   result = first_number/second_number\n",
        "   print(result)\n",
        "except ZeroDivisionError:\n",
        "   print(\"You can't divide by zero!\")\n",
        "except ValueError as e:\n",
        "   print(e)"
      ],
      "metadata": {
        "colab": {
          "base_uri": "https://localhost:8080/"
        },
        "id": "HBqH65bdbC5a",
        "outputId": "68290c18-8af3-4f7d-815a-0b3de9183e20"
      },
      "execution_count": null,
      "outputs": [
        {
          "output_type": "stream",
          "name": "stdout",
          "text": [
            "Enter first number: hi\n",
            "could not convert string to float: 'hi'\n"
          ]
        }
      ]
    },
    {
      "cell_type": "markdown",
      "source": [
        "Error Handling is used in scenarios where we get inputs from user. So it's good to know the errors in Python."
      ],
      "metadata": {
        "id": "OuMpRWUAcnFT"
      }
    },
    {
      "cell_type": "code",
      "source": [
        "try:\n",
        "   x = int(input(\"Enter a number: \"))\n",
        "except:\n",
        "   print(\"Your input is not valid\")\n",
        "else:\n",
        "   print(x)"
      ],
      "metadata": {
        "colab": {
          "base_uri": "https://localhost:8080/"
        },
        "id": "eCkUpPKLc6aQ",
        "outputId": "1dd16b9f-d4c5-4760-dfd0-c2aa7b2079d6"
      },
      "execution_count": null,
      "outputs": [
        {
          "output_type": "stream",
          "name": "stdout",
          "text": [
            "Enter a number: 4.t\n",
            "Your input is not valid\n"
          ]
        }
      ]
    },
    {
      "cell_type": "markdown",
      "source": [
        "#Python Modules"
      ],
      "metadata": {
        "id": "keduvGPze02D"
      }
    },
    {
      "cell_type": "code",
      "source": [
        "#to get modules from python you use the import keyword\n",
        "import math #importing the math module for basic mathematical operations."
      ],
      "metadata": {
        "id": "XSbEZCnCdzue"
      },
      "execution_count": null,
      "outputs": []
    },
    {
      "cell_type": "code",
      "source": [
        "math.sqrt(16) #to get a square of the value"
      ],
      "metadata": {
        "colab": {
          "base_uri": "https://localhost:8080/"
        },
        "id": "6AxvqOmRfWCU",
        "outputId": "9d4213ef-8f37-475f-eca2-891413452245"
      },
      "execution_count": null,
      "outputs": [
        {
          "output_type": "execute_result",
          "data": {
            "text/plain": [
              "4.0"
            ]
          },
          "metadata": {},
          "execution_count": 22
        }
      ]
    },
    {
      "cell_type": "code",
      "source": [
        "math.ceil(4.2) #rounds the number up"
      ],
      "metadata": {
        "colab": {
          "base_uri": "https://localhost:8080/"
        },
        "id": "0gZ4PlISfjK6",
        "outputId": "242345c1-ce67-4df3-961d-a0d1db722442"
      },
      "execution_count": null,
      "outputs": [
        {
          "output_type": "execute_result",
          "data": {
            "text/plain": [
              "5"
            ]
          },
          "metadata": {},
          "execution_count": 23
        }
      ]
    },
    {
      "cell_type": "code",
      "source": [
        "math.floor(4.2) # rounds the number down"
      ],
      "metadata": {
        "colab": {
          "base_uri": "https://localhost:8080/"
        },
        "id": "aZf2zBt3fudE",
        "outputId": "e9a585b2-bbd4-4716-8ecd-2daf61011671"
      },
      "execution_count": null,
      "outputs": [
        {
          "output_type": "execute_result",
          "data": {
            "text/plain": [
              "4"
            ]
          },
          "metadata": {},
          "execution_count": 24
        }
      ]
    },
    {
      "cell_type": "code",
      "source": [
        "math.pi #gives the value of pi"
      ],
      "metadata": {
        "colab": {
          "base_uri": "https://localhost:8080/"
        },
        "id": "RG9VN-jEf1HG",
        "outputId": "55a580de-011c-4b59-c408-76f7da154038"
      },
      "execution_count": null,
      "outputs": [
        {
          "output_type": "execute_result",
          "data": {
            "text/plain": [
              "3.141592653589793"
            ]
          },
          "metadata": {},
          "execution_count": 25
        }
      ]
    },
    {
      "cell_type": "code",
      "source": [
        "math.log(2) #gives the log value of the number"
      ],
      "metadata": {
        "colab": {
          "base_uri": "https://localhost:8080/"
        },
        "id": "loM-7bjBgIC0",
        "outputId": "4ff83215-7f6b-4496-8b3c-a93e4c810ae4"
      },
      "execution_count": null,
      "outputs": [
        {
          "output_type": "execute_result",
          "data": {
            "text/plain": [
              "0.6931471805599453"
            ]
          },
          "metadata": {},
          "execution_count": 26
        }
      ]
    },
    {
      "cell_type": "code",
      "source": [
        "math.e #gives the value of exponential"
      ],
      "metadata": {
        "colab": {
          "base_uri": "https://localhost:8080/"
        },
        "id": "9iO2hiMbgPy_",
        "outputId": "db7865fc-88f5-43fd-936d-40e5190faf02"
      },
      "execution_count": null,
      "outputs": [
        {
          "output_type": "execute_result",
          "data": {
            "text/plain": [
              "2.718281828459045"
            ]
          },
          "metadata": {},
          "execution_count": 27
        }
      ]
    },
    {
      "cell_type": "code",
      "source": [
        "import random #importing the random module to pick random numbers"
      ],
      "metadata": {
        "id": "QfiGdcKDgXW7"
      },
      "execution_count": null,
      "outputs": []
    },
    {
      "cell_type": "code",
      "source": [
        "random.randint(1,10) #generates a random number from 1-10"
      ],
      "metadata": {
        "colab": {
          "base_uri": "https://localhost:8080/"
        },
        "id": "_vIptC3qggg2",
        "outputId": "3c4a9339-0d77-4fec-a8ff-152825b18596"
      },
      "execution_count": null,
      "outputs": [
        {
          "output_type": "execute_result",
          "data": {
            "text/plain": [
              "10"
            ]
          },
          "metadata": {},
          "execution_count": 29
        }
      ]
    },
    {
      "cell_type": "code",
      "source": [
        "random.choice(numbers) #picks a random number from the specified list"
      ],
      "metadata": {
        "colab": {
          "base_uri": "https://localhost:8080/"
        },
        "id": "Vk_Rvtfpgra8",
        "outputId": "854d01b2-a0a5-4cb9-8278-e9de209401d7"
      },
      "execution_count": null,
      "outputs": [
        {
          "output_type": "execute_result",
          "data": {
            "text/plain": [
              "3"
            ]
          },
          "metadata": {},
          "execution_count": 36
        }
      ]
    },
    {
      "cell_type": "code",
      "source": [],
      "metadata": {
        "id": "X5VxlzEEg-fe"
      },
      "execution_count": null,
      "outputs": []
    }
  ]
}