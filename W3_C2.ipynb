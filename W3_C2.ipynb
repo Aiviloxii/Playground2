{
  "nbformat": 4,
  "nbformat_minor": 0,
  "metadata": {
    "colab": {
      "provenance": [],
      "authorship_tag": "ABX9TyPknAgrzn2qP+fsF4kRvKCr",
      "include_colab_link": true
    },
    "kernelspec": {
      "name": "python3",
      "display_name": "Python 3"
    },
    "language_info": {
      "name": "python"
    }
  },
  "cells": [
    {
      "cell_type": "markdown",
      "metadata": {
        "id": "view-in-github",
        "colab_type": "text"
      },
      "source": [
        "<a href=\"https://colab.research.google.com/github/Aiviloxii/Playground2/blob/main/W3_C2.ipynb\" target=\"_parent\"><img src=\"https://colab.research.google.com/assets/colab-badge.svg\" alt=\"Open In Colab\"/></a>"
      ]
    },
    {
      "cell_type": "markdown",
      "source": [
        "#Still on Conditionals!\n",
        "For loops"
      ],
      "metadata": {
        "id": "wEkfTgJF4wvt"
      }
    },
    {
      "cell_type": "code",
      "execution_count": 1,
      "metadata": {
        "colab": {
          "base_uri": "https://localhost:8080/"
        },
        "id": "uDTCDFAx4sQX",
        "outputId": "fe694789-94a2-458c-cfde-df8b066dab6d"
      },
      "outputs": [
        {
          "output_type": "stream",
          "name": "stdout",
          "text": [
            "Hallo!\n"
          ]
        }
      ],
      "source": [
        "greeting = \"Hallo!\"\n",
        "print(greeting)"
      ]
    },
    {
      "cell_type": "code",
      "source": [
        "for i in greeting:\n",
        "   print(f\" The letter {i} is present in greeting\")"
      ],
      "metadata": {
        "colab": {
          "base_uri": "https://localhost:8080/"
        },
        "id": "4CiiDKU95KZ2",
        "outputId": "2b7597d8-530f-4d06-bc52-0ab280290c9a"
      },
      "execution_count": 3,
      "outputs": [
        {
          "output_type": "stream",
          "name": "stdout",
          "text": [
            " The letter H is present in greeting\n",
            " The letter a is present in greeting\n",
            " The letter l is present in greeting\n",
            " The letter l is present in greeting\n",
            " The letter o is present in greeting\n",
            " The letter ! is present in greeting\n"
          ]
        }
      ]
    },
    {
      "cell_type": "code",
      "source": [
        "names = [\"Jaymeemah\",\"Jayceentah\",\"Jayrulesahlem\",\"Jayden\"]"
      ],
      "metadata": {
        "id": "mEI8r2u85oV8"
      },
      "execution_count": 6,
      "outputs": []
    },
    {
      "cell_type": "code",
      "source": [
        "for j in names:\n",
        "   print(f\"{j} is a GenZ name\")"
      ],
      "metadata": {
        "colab": {
          "base_uri": "https://localhost:8080/"
        },
        "id": "p1sKm0MK7Jjd",
        "outputId": "411a12de-6e8f-47dd-bcfb-c311d94afe80"
      },
      "execution_count": 8,
      "outputs": [
        {
          "output_type": "stream",
          "name": "stdout",
          "text": [
            "Jaymeemah is a GenZ name\n",
            "Jayceentah is a GenZ name\n",
            "Jayrulesahlem is a GenZ name\n",
            "Jayden is a GenZ name\n"
          ]
        }
      ]
    },
    {
      "cell_type": "code",
      "source": [
        "x = list(enumerate(names))"
      ],
      "metadata": {
        "id": "cFJa0ucR9BLH"
      },
      "execution_count": 11,
      "outputs": []
    },
    {
      "cell_type": "code",
      "source": [
        "print(x)"
      ],
      "metadata": {
        "colab": {
          "base_uri": "https://localhost:8080/"
        },
        "id": "FfQ1Op1M9zVG",
        "outputId": "348da2bb-c35d-4bf5-a209-f8eca203c93a"
      },
      "execution_count": 12,
      "outputs": [
        {
          "output_type": "stream",
          "name": "stdout",
          "text": [
            "[(0, 'Jaymeemah'), (1, 'Jayceentah'), (2, 'Jayrulesahlem'), (3, 'Jayden')]\n"
          ]
        }
      ]
    },
    {
      "cell_type": "code",
      "source": [
        "for i,j in enumerate(names):\n",
        "   id = i +1\n",
        "   print(f\"{j} ID is {id}\")"
      ],
      "metadata": {
        "colab": {
          "base_uri": "https://localhost:8080/"
        },
        "id": "TcVoEq4D9_DN",
        "outputId": "b32f002a-42dd-40d4-cf55-663c0f2a53f2"
      },
      "execution_count": 15,
      "outputs": [
        {
          "output_type": "stream",
          "name": "stdout",
          "text": [
            "Jaymeemah ID is 1\n",
            "Jayceentah ID is 2\n",
            "Jayrulesahlem ID is 3\n",
            "Jayden ID is 4\n"
          ]
        }
      ]
    },
    {
      "cell_type": "code",
      "source": [
        "fav_food = {\"Jaymeemah\":\"bread\", \"Jayceentah\":\"curry & rice\",\"Jayrulesahlem\":\"pizza\",\"Jayden\":\"fufu & Egusi\"}"
      ],
      "metadata": {
        "id": "6P1bzksJ-93Q"
      },
      "execution_count": 21,
      "outputs": []
    },
    {
      "cell_type": "code",
      "source": [
        "for i,j in fav_food.items():\n",
        "   print(f\"{i} favorite food is {j}\")"
      ],
      "metadata": {
        "colab": {
          "base_uri": "https://localhost:8080/"
        },
        "id": "3GmkYlv0Afz6",
        "outputId": "67548642-50b6-46d5-a3fa-0596d0bbf985"
      },
      "execution_count": 28,
      "outputs": [
        {
          "output_type": "stream",
          "name": "stdout",
          "text": [
            "Jaymeemah favorite food is bread\n",
            "Jayceentah favorite food is curry & rice\n",
            "Jayrulesahlem favorite food is pizza\n",
            "Jayden favorite food is fufu & Egusi\n"
          ]
        }
      ]
    },
    {
      "cell_type": "markdown",
      "source": [
        "To get even number using range()"
      ],
      "metadata": {
        "id": "rq-iwYJ6C0HO"
      }
    },
    {
      "cell_type": "code",
      "source": [
        "even_num =[]\n",
        "for i in range(0,21):\n",
        "   if i % 2 == 0:\n",
        "      even_num.append(i)"
      ],
      "metadata": {
        "id": "TyXc6HpsCsx7"
      },
      "execution_count": 29,
      "outputs": []
    },
    {
      "cell_type": "code",
      "source": [
        "print(even_num)"
      ],
      "metadata": {
        "colab": {
          "base_uri": "https://localhost:8080/"
        },
        "id": "P16Dn2AQDufE",
        "outputId": "511a94e1-39b8-4903-d901-dac84d7b6259"
      },
      "execution_count": 30,
      "outputs": [
        {
          "output_type": "stream",
          "name": "stdout",
          "text": [
            "[0, 2, 4, 6, 8, 10, 12, 14, 16, 18, 20]\n"
          ]
        }
      ]
    },
    {
      "cell_type": "markdown",
      "source": [
        "List comprehension"
      ],
      "metadata": {
        "id": "9GZCwmJIDFwf"
      }
    },
    {
      "cell_type": "code",
      "source": [
        "#making your loops on one line\n",
        "comp_even = [I for I in range(0,21) if I % 2 == 0]"
      ],
      "metadata": {
        "id": "VnMFAILnDJ67"
      },
      "execution_count": 31,
      "outputs": []
    },
    {
      "cell_type": "code",
      "source": [
        "print(comp_even)"
      ],
      "metadata": {
        "colab": {
          "base_uri": "https://localhost:8080/"
        },
        "id": "YrVQzhfrEh5U",
        "outputId": "c7d9baac-5c7d-4532-f973-a17a35390291"
      },
      "execution_count": 32,
      "outputs": [
        {
          "output_type": "stream",
          "name": "stdout",
          "text": [
            "[0, 2, 4, 6, 8, 10, 12, 14, 16, 18, 20]\n"
          ]
        }
      ]
    },
    {
      "cell_type": "markdown",
      "source": [
        "While Loop"
      ],
      "metadata": {
        "id": "I5eMFYC2FhqP"
      }
    },
    {
      "cell_type": "code",
      "source": [
        "# a mini counter\n",
        "counter = 0\n",
        "while counter <= 5:\n",
        "   print(f\"count! {counter}\")\n",
        "   counter += 1 #counter = counter + 1"
      ],
      "metadata": {
        "colab": {
          "base_uri": "https://localhost:8080/"
        },
        "id": "AgDj9e9MEx9l",
        "outputId": "141c6d77-e370-4b0d-8d84-237ea7916da6"
      },
      "execution_count": 33,
      "outputs": [
        {
          "output_type": "stream",
          "name": "stdout",
          "text": [
            "count! 0\n",
            "count! 1\n",
            "count! 2\n",
            "count! 3\n",
            "count! 4\n",
            "count! 5\n"
          ]
        }
      ]
    },
    {
      "cell_type": "code",
      "source": [
        "#reverse counter\n",
        "counter = 5\n",
        "while counter > 0:\n",
        "   print(f\"count! {counter}\")\n",
        "   counter -= 1 #counter = counter - 1"
      ],
      "metadata": {
        "colab": {
          "base_uri": "https://localhost:8080/"
        },
        "id": "Cp_YEmb_Gj0U",
        "outputId": "a635b5f7-f3ae-4758-dad0-909e7f635062"
      },
      "execution_count": 35,
      "outputs": [
        {
          "output_type": "stream",
          "name": "stdout",
          "text": [
            "count! 5\n",
            "count! 4\n",
            "count! 3\n",
            "count! 2\n",
            "count! 1\n"
          ]
        }
      ]
    },
    {
      "cell_type": "code",
      "source": [
        "even_no = []\n",
        "odd_no = []\n",
        "num = 0\n",
        "while num >= 0:\n",
        "   if num > 21:\n",
        "      break\n",
        "   else:\n",
        "       if num % 2 == 0:\n",
        "          even_no.append(num)\n",
        "       elif num % 2 == 1:\n",
        "          odd_no.append(num)\n",
        "   num += 1"
      ],
      "metadata": {
        "id": "MtjBejkUJrxs"
      },
      "execution_count": 44,
      "outputs": []
    },
    {
      "cell_type": "code",
      "source": [
        "print(odd_no)"
      ],
      "metadata": {
        "colab": {
          "base_uri": "https://localhost:8080/"
        },
        "id": "WH12Bis0K49J",
        "outputId": "390dcffd-4e57-4d56-9e58-8dea08bd997d"
      },
      "execution_count": 43,
      "outputs": [
        {
          "output_type": "stream",
          "name": "stdout",
          "text": [
            "[1, 3, 5, 7, 9, 11, 13, 15, 17, 19, 21]\n"
          ]
        }
      ]
    }
  ]
}