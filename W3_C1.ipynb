{
  "nbformat": 4,
  "nbformat_minor": 0,
  "metadata": {
    "colab": {
      "provenance": [],
      "authorship_tag": "ABX9TyPllQAjczx+kFZh2mSv2HEK"
    },
    "kernelspec": {
      "name": "python3",
      "display_name": "Python 3"
    },
    "language_info": {
      "name": "python"
    }
  },
  "cells": [
    {
      "cell_type": "code",
      "execution_count": null,
      "metadata": {
        "id": "ZKGpxIS8RXhN"
      },
      "outputs": [],
      "source": [
        "student = {\"name\": \"Christian Mage\", \"age\":18, \"course\": \"Geography\"}"
      ]
    },
    {
      "cell_type": "code",
      "source": [
        "type(student )"
      ],
      "metadata": {
        "colab": {
          "base_uri": "https://localhost:8080/"
        },
        "id": "tBsWFF7UUjIq",
        "outputId": "91b694bd-c258-4adf-8fb2-54dcb235e277"
      },
      "execution_count": null,
      "outputs": [
        {
          "output_type": "execute_result",
          "data": {
            "text/plain": [
              "dict"
            ]
          },
          "metadata": {},
          "execution_count": 4
        }
      ]
    },
    {
      "cell_type": "code",
      "source": [
        "print(student[\"course\"])"
      ],
      "metadata": {
        "colab": {
          "base_uri": "https://localhost:8080/"
        },
        "id": "bW-etrbeUoX_",
        "outputId": "8b82f21b-cf0e-4656-9afe-950ffd170ebf"
      },
      "execution_count": null,
      "outputs": [
        {
          "output_type": "stream",
          "name": "stdout",
          "text": [
            "Geography\n"
          ]
        }
      ]
    },
    {
      "cell_type": "code",
      "source": [
        "student.items()"
      ],
      "metadata": {
        "colab": {
          "base_uri": "https://localhost:8080/"
        },
        "id": "6qG0EOM4U7Qh",
        "outputId": "dabd434b-7d14-4624-fe14-c1d9fc7ee6c0"
      },
      "execution_count": null,
      "outputs": [
        {
          "output_type": "execute_result",
          "data": {
            "text/plain": [
              "dict_items([('name', 'Christian Mage'), ('age', 18), ('course', 'Geography')])"
            ]
          },
          "metadata": {},
          "execution_count": 6
        }
      ]
    },
    {
      "cell_type": "code",
      "source": [
        "student.values()"
      ],
      "metadata": {
        "colab": {
          "base_uri": "https://localhost:8080/"
        },
        "id": "vpMya3whVMEw",
        "outputId": "adaba1e5-50d0-4256-bf1f-7bb93fad3644"
      },
      "execution_count": null,
      "outputs": [
        {
          "output_type": "execute_result",
          "data": {
            "text/plain": [
              "dict_values(['Christian Mage', 18, 'Geography'])"
            ]
          },
          "metadata": {},
          "execution_count": 7
        }
      ]
    },
    {
      "cell_type": "code",
      "source": [
        "student.keys()"
      ],
      "metadata": {
        "colab": {
          "base_uri": "https://localhost:8080/"
        },
        "id": "OTgmkKfcVUQt",
        "outputId": "b8567b30-72ec-499e-9caa-01993032be56"
      },
      "execution_count": null,
      "outputs": [
        {
          "output_type": "execute_result",
          "data": {
            "text/plain": [
              "dict_keys(['name', 'age', 'course'])"
            ]
          },
          "metadata": {},
          "execution_count": 8
        }
      ]
    },
    {
      "cell_type": "code",
      "source": [
        "\n",
        "student.get(\"name\")"
      ],
      "metadata": {
        "colab": {
          "base_uri": "https://localhost:8080/",
          "height": 35
        },
        "id": "4mnCW6DFVqNt",
        "outputId": "e0dd34c2-69df-4101-b6c7-ceed8ead5694"
      },
      "execution_count": null,
      "outputs": [
        {
          "output_type": "execute_result",
          "data": {
            "text/plain": [
              "'Christian Mage'"
            ],
            "application/vnd.google.colaboratory.intrinsic+json": {
              "type": "string"
            }
          },
          "metadata": {},
          "execution_count": 9
        }
      ]
    },
    {
      "cell_type": "code",
      "source": [
        "student[\"Hobby\"] = \"Fanboying\""
      ],
      "metadata": {
        "id": "yVEARq6HV7E6"
      },
      "execution_count": null,
      "outputs": []
    },
    {
      "cell_type": "code",
      "source": [
        "student[\"Friend\"] = \"Jayceentah\""
      ],
      "metadata": {
        "id": "FA3hBP3KWjV3"
      },
      "execution_count": 11,
      "outputs": []
    },
    {
      "cell_type": "code",
      "source": [
        "del student[\"Friend\"]"
      ],
      "metadata": {
        "id": "3QwvOCZkXPp6"
      },
      "execution_count": 12,
      "outputs": []
    },
    {
      "cell_type": "code",
      "source": [
        "print(student)"
      ],
      "metadata": {
        "colab": {
          "base_uri": "https://localhost:8080/"
        },
        "id": "QackfTW0XYWG",
        "outputId": "88890c5c-9180-4ba8-add6-de4ece1c9d8f"
      },
      "execution_count": 13,
      "outputs": [
        {
          "output_type": "stream",
          "name": "stdout",
          "text": [
            "{'name': 'Christian Mage', 'age': 18, 'course': 'Geography', 'Hobby': 'Fanboying'}\n"
          ]
        }
      ]
    },
    {
      "cell_type": "code",
      "source": [
        "student.update({\"Hobby\": \"Watching anime\"})"
      ],
      "metadata": {
        "id": "_dddD98SXcj9"
      },
      "execution_count": 14,
      "outputs": []
    },
    {
      "cell_type": "code",
      "source": [
        "print(student)"
      ],
      "metadata": {
        "colab": {
          "base_uri": "https://localhost:8080/"
        },
        "id": "RBye2oj5Xp74",
        "outputId": "9fcfe4ac-071e-4b31-bfb3-2b03dd38a92a"
      },
      "execution_count": 15,
      "outputs": [
        {
          "output_type": "stream",
          "name": "stdout",
          "text": [
            "{'name': 'Christian Mage', 'age': 18, 'course': 'Geography', 'Hobby': 'Watching anime'}\n"
          ]
        }
      ]
    },
    {
      "cell_type": "code",
      "source": [
        "student[\"girlfriend\"] = \"Ummul\""
      ],
      "metadata": {
        "id": "D9xQOi25Xzzx"
      },
      "execution_count": 16,
      "outputs": []
    },
    {
      "cell_type": "code",
      "source": [
        "print(student)"
      ],
      "metadata": {
        "colab": {
          "base_uri": "https://localhost:8080/"
        },
        "id": "imShp_q3X_tG",
        "outputId": "cd4cf71a-0075-47fe-89f3-391996451357"
      },
      "execution_count": 17,
      "outputs": [
        {
          "output_type": "stream",
          "name": "stdout",
          "text": [
            "{'name': 'Christian Mage', 'age': 18, 'course': 'Geography', 'Hobby': 'Watching anime', 'girlfriend': 'Ummul'}\n"
          ]
        }
      ]
    },
    {
      "cell_type": "code",
      "source": [
        "student.pop('girlfriend')"
      ],
      "metadata": {
        "colab": {
          "base_uri": "https://localhost:8080/",
          "height": 35
        },
        "id": "jgs1wTTgYFkD",
        "outputId": "7a0b09c4-1485-44bc-ccc8-a92a9661ab33"
      },
      "execution_count": 19,
      "outputs": [
        {
          "output_type": "execute_result",
          "data": {
            "text/plain": [
              "'Ummul'"
            ],
            "application/vnd.google.colaboratory.intrinsic+json": {
              "type": "string"
            }
          },
          "metadata": {},
          "execution_count": 19
        }
      ]
    },
    {
      "cell_type": "code",
      "source": [
        "print(student)"
      ],
      "metadata": {
        "colab": {
          "base_uri": "https://localhost:8080/"
        },
        "id": "dkgZSog5YRcg",
        "outputId": "7bd3ae9d-8486-47c7-ee0e-aa9fdc6aca3a"
      },
      "execution_count": 20,
      "outputs": [
        {
          "output_type": "stream",
          "name": "stdout",
          "text": [
            "{'name': 'Christian Mage', 'age': 18, 'course': 'Geography', 'Hobby': 'Watching anime'}\n"
          ]
        }
      ]
    },
    {
      "cell_type": "markdown",
      "source": [
        "#Nested Dictionary"
      ],
      "metadata": {
        "id": "9IiUfLEHYUlY"
      }
    },
    {
      "cell_type": "code",
      "source": [
        "class_info = { \"student1\":\n",
        "{\"name\": \"Isaiah Wright\", \"age\":19, \"course\": \"Business\"},\n",
        "\"student2\": {\"name\": \"Gabbie Lovelace\", \"age\":20, \"course\": \"Python\"}\n",
        "\n",
        "}"
      ],
      "metadata": {
        "id": "TZOex0c8YZVy"
      },
      "execution_count": 21,
      "outputs": []
    },
    {
      "cell_type": "code",
      "source": [
        "class_info[\"student1\"][\"age\"]"
      ],
      "metadata": {
        "colab": {
          "base_uri": "https://localhost:8080/"
        },
        "id": "MtqA0CrAZraD",
        "outputId": "0b6d2db3-d6a7-41cd-879b-71a11b5a6ab1"
      },
      "execution_count": 25,
      "outputs": [
        {
          "output_type": "execute_result",
          "data": {
            "text/plain": [
              "19"
            ]
          },
          "metadata": {},
          "execution_count": 25
        }
      ]
    },
    {
      "cell_type": "code",
      "source": [
        "class_info[\"student2\"][\"name\"]"
      ],
      "metadata": {
        "colab": {
          "base_uri": "https://localhost:8080/",
          "height": 35
        },
        "id": "Q58oeb5jaY7L",
        "outputId": "a3c11236-cc99-48ba-fd70-c4a46c42ba4a"
      },
      "execution_count": 26,
      "outputs": [
        {
          "output_type": "execute_result",
          "data": {
            "text/plain": [
              "'Gabbie Lovelace'"
            ],
            "application/vnd.google.colaboratory.intrinsic+json": {
              "type": "string"
            }
          },
          "metadata": {},
          "execution_count": 26
        }
      ]
    },
    {
      "cell_type": "markdown",
      "source": [
        "#On to Conditional Statements!"
      ],
      "metadata": {
        "id": "eRbL2qIdaj8A"
      }
    },
    {
      "cell_type": "code",
      "source": [
        "# trying out a person eligibility to vote\n",
        "age = 18"
      ],
      "metadata": {
        "id": "_Dk6D0T_atd5"
      },
      "execution_count": 34,
      "outputs": []
    },
    {
      "cell_type": "code",
      "source": [
        "if age >=18:\n",
        "   print(\"A voter alright!\")\n",
        "else:\n",
        "   print(\"Oops! Not a voter yet!\")\n",
        "print(\"Thanks for using voter-checker\")"
      ],
      "metadata": {
        "colab": {
          "base_uri": "https://localhost:8080/"
        },
        "id": "fVuXFU11bWz2",
        "outputId": "2e38baf4-4337-4969-b744-4b2a5a2c6cd8"
      },
      "execution_count": 36,
      "outputs": [
        {
          "output_type": "stream",
          "name": "stdout",
          "text": [
            "A voter alright!\n",
            "Thanks for using voter-checker\n"
          ]
        }
      ]
    },
    {
      "cell_type": "code",
      "source": [
        "# a little number tester: checks a number is positive, zero or negative.\n",
        "num = 0.6"
      ],
      "metadata": {
        "id": "8up4D4RTbsh9"
      },
      "execution_count": 45,
      "outputs": []
    },
    {
      "cell_type": "code",
      "source": [
        "\n",
        "print(\"Welcome to number tester!!!\")\n",
        "if num == 0:\n",
        "   print(\"The number is Zero\")\n",
        "elif num > 0:\n",
        "   print(\"The number is positive\")\n",
        "elif num < 0:\n",
        "   print(\"Za number is negative\")"
      ],
      "metadata": {
        "colab": {
          "base_uri": "https://localhost:8080/"
        },
        "id": "on5CEJkydar9",
        "outputId": "1756efa8-52d4-45b6-d932-bca4a4b0ffa3"
      },
      "execution_count": 46,
      "outputs": [
        {
          "output_type": "stream",
          "name": "stdout",
          "text": [
            "Welcome to number tester!!!\n",
            "The number is positive\n"
          ]
        }
      ]
    },
    {
      "cell_type": "code",
      "source": [
        "# a car store taking inventory\n",
        "car = [\"Tesla\", \"Acura\", \"Volkswagen\", \"KIA\"]"
      ],
      "metadata": {
        "id": "k0yXiNO_fKkY"
      },
      "execution_count": 47,
      "outputs": []
    },
    {
      "cell_type": "code",
      "source": [
        "if len(car) > 0:\n",
        "   if \"BMW\" in car:\n",
        "       print(\"We have a BMW available\")\n",
        "   else:\n",
        "       print(\"Currently out of BMWs\")\n",
        "else:\n",
        "   print(\"Store needs to be updated\")"
      ],
      "metadata": {
        "colab": {
          "base_uri": "https://localhost:8080/"
        },
        "id": "bvzBku1Efua0",
        "outputId": "50cb31bd-87ca-4d40-dd41-2e9f0c621452"
      },
      "execution_count": 48,
      "outputs": [
        {
          "output_type": "stream",
          "name": "stdout",
          "text": [
            "Currently out of BMWs\n"
          ]
        }
      ]
    }
  ]
}