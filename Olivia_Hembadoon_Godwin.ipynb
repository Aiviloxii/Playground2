{
  "nbformat": 4,
  "nbformat_minor": 0,
  "metadata": {
    "colab": {
      "provenance": [],
      "authorship_tag": "ABX9TyOBgHbRAzB/ac9mw8C164CF"
    },
    "kernelspec": {
      "name": "python3",
      "display_name": "Python 3"
    },
    "language_info": {
      "name": "python"
    }
  },
  "cells": [
    {
      "cell_type": "markdown",
      "source": [
        "#James's Question"
      ],
      "metadata": {
        "id": "HpkgdDipo-pY"
      }
    },
    {
      "cell_type": "code",
      "execution_count": 2,
      "metadata": {
        "id": "n7rRDE8noqDV"
      },
      "outputs": [],
      "source": [
        "james_score = [78,90, 67, 52,84]"
      ]
    },
    {
      "cell_type": "code",
      "source": [
        "print(james_score )"
      ],
      "metadata": {
        "colab": {
          "base_uri": "https://localhost:8080/"
        },
        "id": "AIrHu41EpeeD",
        "outputId": "01515cd4-92e8-4a2f-ea72-72c189008dd7"
      },
      "execution_count": 3,
      "outputs": [
        {
          "output_type": "stream",
          "name": "stdout",
          "text": [
            "[78, 90, 67, 52, 84]\n"
          ]
        }
      ]
    },
    {
      "cell_type": "code",
      "source": [
        "james_score.sort()"
      ],
      "metadata": {
        "id": "P2YkzK1bqbqH"
      },
      "execution_count": 4,
      "outputs": []
    },
    {
      "cell_type": "code",
      "source": [
        "high_score = james_score[-1] #to get the highest score"
      ],
      "metadata": {
        "id": "hGXf2Yktrabw"
      },
      "execution_count": 6,
      "outputs": []
    },
    {
      "cell_type": "code",
      "source": [
        "print(high_score)"
      ],
      "metadata": {
        "colab": {
          "base_uri": "https://localhost:8080/"
        },
        "id": "4wXgzK9zrnHs",
        "outputId": "d94d585a-df89-4812-938c-3c3f681930cd"
      },
      "execution_count": 7,
      "outputs": [
        {
          "output_type": "stream",
          "name": "stdout",
          "text": [
            "90\n"
          ]
        }
      ]
    },
    {
      "cell_type": "code",
      "source": [
        "low_score = james_score[0] # to get lowest score"
      ],
      "metadata": {
        "id": "BWhb7gjCrytM"
      },
      "execution_count": 8,
      "outputs": []
    },
    {
      "cell_type": "code",
      "source": [
        "print(low_score)"
      ],
      "metadata": {
        "colab": {
          "base_uri": "https://localhost:8080/"
        },
        "id": "r8i93QPor8n-",
        "outputId": "10ca8885-2d1d-426f-ed05-6b2e84220cd8"
      },
      "execution_count": 9,
      "outputs": [
        {
          "output_type": "stream",
          "name": "stdout",
          "text": [
            "52\n"
          ]
        }
      ]
    },
    {
      "cell_type": "code",
      "source": [
        "a = sum(james_score ) #sums the entire list"
      ],
      "metadata": {
        "id": "UwgEIeN8sNvF"
      },
      "execution_count": 10,
      "outputs": []
    },
    {
      "cell_type": "code",
      "source": [
        "b = len(james_score) # gets the total number of entities in the list."
      ],
      "metadata": {
        "id": "V-co_SDBse0I"
      },
      "execution_count": 11,
      "outputs": []
    },
    {
      "cell_type": "code",
      "source": [
        "c = a/b # to get James's  average score"
      ],
      "metadata": {
        "id": "cyYy_qYfsmBR"
      },
      "execution_count": 12,
      "outputs": []
    },
    {
      "cell_type": "code",
      "source": [
        "print(c)"
      ],
      "metadata": {
        "colab": {
          "base_uri": "https://localhost:8080/"
        },
        "id": "Shw2ePM6suXb",
        "outputId": "5f536ef1-c077-4374-d979-f1a2576ee203"
      },
      "execution_count": 13,
      "outputs": [
        {
          "output_type": "stream",
          "name": "stdout",
          "text": [
            "74.2\n"
          ]
        }
      ]
    },
    {
      "cell_type": "code",
      "source": [
        "print(f\"James's best score is {high_score }, and his lowest score is {low_score}. His average score is {c}\")"
      ],
      "metadata": {
        "colab": {
          "base_uri": "https://localhost:8080/"
        },
        "id": "ppXZBPB7tjGc",
        "outputId": "36a9ac6c-d909-4ddc-a898-510cfc5efc88"
      },
      "execution_count": 14,
      "outputs": [
        {
          "output_type": "stream",
          "name": "stdout",
          "text": [
            "James's best score is 90, and his lowest score is 52. His average score is 74.2\n"
          ]
        }
      ]
    },
    {
      "cell_type": "markdown",
      "source": [
        "#Alice's Question"
      ],
      "metadata": {
        "id": "-dkbOTmXuctY"
      }
    },
    {
      "cell_type": "code",
      "source": [
        "items_costs = [1200, 1000, 450, 780, 870, 1100,1500]"
      ],
      "metadata": {
        "id": "Nz51RA9Guhol"
      },
      "execution_count": 15,
      "outputs": []
    },
    {
      "cell_type": "code",
      "source": [
        "items_costs.sort()"
      ],
      "metadata": {
        "id": "EQXh7NKexCKg"
      },
      "execution_count": 16,
      "outputs": []
    },
    {
      "cell_type": "code",
      "source": [
        "expensive_item = items_costs[-1]"
      ],
      "metadata": {
        "id": "QvANzFxixUrX"
      },
      "execution_count": 17,
      "outputs": []
    },
    {
      "cell_type": "code",
      "source": [
        "print(expensive_item)"
      ],
      "metadata": {
        "colab": {
          "base_uri": "https://localhost:8080/"
        },
        "id": "lRge-2XYx0_P",
        "outputId": "cbd9638b-35cf-4d7d-c648-27fa309b25cc"
      },
      "execution_count": 18,
      "outputs": [
        {
          "output_type": "stream",
          "name": "stdout",
          "text": [
            "1500\n"
          ]
        }
      ]
    },
    {
      "cell_type": "code",
      "source": [
        "cheap_item = items_costs[0]"
      ],
      "metadata": {
        "id": "Gdh7szRQyM40"
      },
      "execution_count": 19,
      "outputs": []
    },
    {
      "cell_type": "code",
      "source": [
        "print(cheap_item)"
      ],
      "metadata": {
        "colab": {
          "base_uri": "https://localhost:8080/"
        },
        "id": "PxBZOEZUybu_",
        "outputId": "9915a41c-e689-4266-b128-0cbf2d644e27"
      },
      "execution_count": 20,
      "outputs": [
        {
          "output_type": "stream",
          "name": "stdout",
          "text": [
            "450\n"
          ]
        }
      ]
    },
    {
      "cell_type": "code",
      "source": [
        "print(items_costs[4:]) # gets the three most expensive items."
      ],
      "metadata": {
        "colab": {
          "base_uri": "https://localhost:8080/"
        },
        "id": "O60j2txXynpj",
        "outputId": "046b2e15-ddfe-4a88-c50e-9dbac0538b61"
      },
      "execution_count": 24,
      "outputs": [
        {
          "output_type": "stream",
          "name": "stdout",
          "text": [
            "[1100, 1200, 1500]\n"
          ]
        }
      ]
    },
    {
      "cell_type": "markdown",
      "source": [
        "#Uncle Joe's Question  "
      ],
      "metadata": {
        "id": "UPMiJS2Iz1_0"
      }
    },
    {
      "cell_type": "code",
      "source": [
        "backpack = [\"Trousers\", \"underwear\",\"Sneakers\", \"Aftershave\", \"Soap\", \"snacks\"]"
      ],
      "metadata": {
        "id": "bsCqJ2IZzzrr"
      },
      "execution_count": 25,
      "outputs": []
    },
    {
      "cell_type": "code",
      "source": [
        "backpack.pop() # since 'snacks' is at the end of the list."
      ],
      "metadata": {
        "colab": {
          "base_uri": "https://localhost:8080/",
          "height": 36
        },
        "id": "LUqkc2282VSi",
        "outputId": "fab83e80-40a4-4963-ea19-15fa2f618008"
      },
      "execution_count": 26,
      "outputs": [
        {
          "output_type": "execute_result",
          "data": {
            "text/plain": [
              "'snacks'"
            ],
            "application/vnd.google.colaboratory.intrinsic+json": {
              "type": "string"
            }
          },
          "metadata": {},
          "execution_count": 26
        }
      ]
    },
    {
      "cell_type": "code",
      "source": [
        "print(backpack)"
      ],
      "metadata": {
        "colab": {
          "base_uri": "https://localhost:8080/"
        },
        "id": "nIwhHqzj2dn6",
        "outputId": "bec824fb-3d6c-424c-d7d4-ceafa72080b4"
      },
      "execution_count": 27,
      "outputs": [
        {
          "output_type": "stream",
          "name": "stdout",
          "text": [
            "['Trousers', 'underwear', 'Sneakers', 'Aftershave', 'Soap']\n"
          ]
        }
      ]
    },
    {
      "cell_type": "code",
      "source": [
        "backpack.insert(0, \"sunglasses\")"
      ],
      "metadata": {
        "id": "x6GfJitf2i9E"
      },
      "execution_count": 30,
      "outputs": []
    },
    {
      "cell_type": "code",
      "source": [
        "print(backpack)"
      ],
      "metadata": {
        "colab": {
          "base_uri": "https://localhost:8080/"
        },
        "id": "t3oJ7F8i3I1-",
        "outputId": "1d6ad81d-01a7-446e-acfc-c64ef24ac25a"
      },
      "execution_count": 31,
      "outputs": [
        {
          "output_type": "stream",
          "name": "stdout",
          "text": [
            "['sunglasses', 'Trousers', 'underwear', 'Sneakers', 'Aftershave', 'Soap']\n"
          ]
        }
      ]
    },
    {
      "cell_type": "markdown",
      "source": [
        "#Allen James's Question  "
      ],
      "metadata": {
        "id": "oRQClcRO3ttS"
      }
    },
    {
      "cell_type": "code",
      "source": [
        "allen = (\"Allen James\", 17, \"Mechanical Engineer\", 4.0)"
      ],
      "metadata": {
        "id": "vS1iLAuN36OR"
      },
      "execution_count": 32,
      "outputs": []
    },
    {
      "cell_type": "code",
      "source": [
        "x = allen[0:3:2]"
      ],
      "metadata": {
        "id": "e-zaKobq4dw4"
      },
      "execution_count": 33,
      "outputs": []
    },
    {
      "cell_type": "code",
      "source": [
        "print(x)"
      ],
      "metadata": {
        "colab": {
          "base_uri": "https://localhost:8080/"
        },
        "id": "f3gV76yw5FZ3",
        "outputId": "3a6121a9-b96b-478c-d44f-3a382c7de44c"
      },
      "execution_count": 34,
      "outputs": [
        {
          "output_type": "stream",
          "name": "stdout",
          "text": [
            "('Allen James', 'Mechanical Engineer')\n"
          ]
        }
      ]
    },
    {
      "cell_type": "code",
      "source": [
        "y = allen.index(4.0)"
      ],
      "metadata": {
        "id": "zASyKhBO6o9n"
      },
      "execution_count": 38,
      "outputs": []
    },
    {
      "cell_type": "code",
      "source": [
        "allen[y] = 3.8"
      ],
      "metadata": {
        "colab": {
          "base_uri": "https://localhost:8080/",
          "height": 141
        },
        "id": "hSp_1IoI8VS4",
        "outputId": "36652e3e-9275-4268-f74f-f656ef78d1b0"
      },
      "execution_count": 39,
      "outputs": [
        {
          "output_type": "error",
          "ename": "TypeError",
          "evalue": "'tuple' object does not support item assignment",
          "traceback": [
            "\u001b[0;31m---------------------------------------------------------------------------\u001b[0m",
            "\u001b[0;31mTypeError\u001b[0m                                 Traceback (most recent call last)",
            "\u001b[0;32m<ipython-input-39-95185ef7223d>\u001b[0m in \u001b[0;36m<cell line: 0>\u001b[0;34m()\u001b[0m\n\u001b[0;32m----> 1\u001b[0;31m \u001b[0mallen\u001b[0m\u001b[0;34m[\u001b[0m\u001b[0my\u001b[0m\u001b[0;34m]\u001b[0m \u001b[0;34m=\u001b[0m \u001b[0;36m3.8\u001b[0m\u001b[0;34m\u001b[0m\u001b[0;34m\u001b[0m\u001b[0m\n\u001b[0m",
            "\u001b[0;31mTypeError\u001b[0m: 'tuple' object does not support item assignment"
          ]
        }
      ]
    },
    {
      "cell_type": "markdown",
      "source": [
        "Error is TypeError as Tuples are immutable, so the items can't be changed after it's been created."
      ],
      "metadata": {
        "id": "TPW2S2QK8zbc"
      }
    },
    {
      "cell_type": "code",
      "source": [
        "type(allen[-1])"
      ],
      "metadata": {
        "colab": {
          "base_uri": "https://localhost:8080/"
        },
        "id": "XaEbpXCa9gLy",
        "outputId": "999a4538-bf0e-4a0b-b358-3c555868a2f8"
      },
      "execution_count": 41,
      "outputs": [
        {
          "output_type": "execute_result",
          "data": {
            "text/plain": [
              "float"
            ]
          },
          "metadata": {},
          "execution_count": 41
        }
      ]
    },
    {
      "cell_type": "markdown",
      "source": [
        "float is used as GPA uses decimal values. So, integer is not suitable."
      ],
      "metadata": {
        "id": "rY00xVGp9YVX"
      }
    }
  ]
}
